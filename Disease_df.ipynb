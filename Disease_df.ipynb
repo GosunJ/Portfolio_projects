{
 "cells": [
  {
   "cell_type": "code",
   "execution_count": 1,
   "id": "83c24397-5326-4e3d-aa60-28a9783bad4e",
   "metadata": {},
   "outputs": [],
   "source": [
    "#importing necessary modules\n",
    "import pandas as pd\n",
    "import matplotlib.pyplot as plt\n",
    "import numpy as np\n",
    "import warnings as w\n",
    "w.filterwarnings('ignore')"
   ]
  },
  {
   "cell_type": "code",
   "execution_count": 2,
   "id": "684b84f5-3127-4770-aef3-dfd8f893c99a",
   "metadata": {},
   "outputs": [],
   "source": [
    "#importing the data frame\n",
    "disease_df = pd.read_excel(r'C:\\Users\\USER\\Documents\\Disease_Data.xlsx')"
   ]
  },
  {
   "cell_type": "code",
   "execution_count": 3,
   "id": "c0878eb8-110d-479d-8570-0639ea385123",
   "metadata": {},
   "outputs": [
    {
     "data": {
      "text/html": [
       "<div>\n",
       "<style scoped>\n",
       "    .dataframe tbody tr th:only-of-type {\n",
       "        vertical-align: middle;\n",
       "    }\n",
       "\n",
       "    .dataframe tbody tr th {\n",
       "        vertical-align: top;\n",
       "    }\n",
       "\n",
       "    .dataframe thead th {\n",
       "        text-align: right;\n",
       "    }\n",
       "</style>\n",
       "<table border=\"1\" class=\"dataframe\">\n",
       "  <thead>\n",
       "    <tr style=\"text-align: right;\">\n",
       "      <th></th>\n",
       "      <th>id</th>\n",
       "      <th>gender</th>\n",
       "      <th>state</th>\n",
       "      <th>settlement</th>\n",
       "      <th>report_date</th>\n",
       "      <th>report_year</th>\n",
       "      <th>age</th>\n",
       "      <th>date_of_birth</th>\n",
       "      <th>disease</th>\n",
       "      <th>health_status</th>\n",
       "      <th>report_outcome</th>\n",
       "    </tr>\n",
       "  </thead>\n",
       "  <tbody>\n",
       "    <tr>\n",
       "      <th>0</th>\n",
       "      <td>1</td>\n",
       "      <td>Female</td>\n",
       "      <td>Rivers</td>\n",
       "      <td>Rural</td>\n",
       "      <td>2018-05-15 00:00:00</td>\n",
       "      <td>2018.0</td>\n",
       "      <td>32</td>\n",
       "      <td>1986-01-17 00:00:00</td>\n",
       "      <td>Cholera</td>\n",
       "      <td>alive</td>\n",
       "      <td>confirmed</td>\n",
       "    </tr>\n",
       "    <tr>\n",
       "      <th>1</th>\n",
       "      <td>2</td>\n",
       "      <td>Male</td>\n",
       "      <td>Ebonyi</td>\n",
       "      <td>Rural</td>\n",
       "      <td>2017-02-28 00:00:00</td>\n",
       "      <td>2017.0</td>\n",
       "      <td>32</td>\n",
       "      <td>1985-09-01 00:00:00</td>\n",
       "      <td>Marburg Virus</td>\n",
       "      <td>Alive</td>\n",
       "      <td>Confirmed</td>\n",
       "    </tr>\n",
       "    <tr>\n",
       "      <th>2</th>\n",
       "      <td>3</td>\n",
       "      <td>Female</td>\n",
       "      <td>Ogun</td>\n",
       "      <td>Urban</td>\n",
       "      <td>2012-03-02 00:00:00</td>\n",
       "      <td>2012.0</td>\n",
       "      <td>24</td>\n",
       "      <td>1988-05-01 00:00:00</td>\n",
       "      <td>Marburg Virus</td>\n",
       "      <td>dead</td>\n",
       "      <td>Not Confirmed</td>\n",
       "    </tr>\n",
       "    <tr>\n",
       "      <th>3</th>\n",
       "      <td>4</td>\n",
       "      <td>Female</td>\n",
       "      <td>Ondo</td>\n",
       "      <td>Rural</td>\n",
       "      <td>2010-05-21 00:00:00</td>\n",
       "      <td>NaN</td>\n",
       "      <td>63</td>\n",
       "      <td>1947-05-24 00:00:00</td>\n",
       "      <td>Measles</td>\n",
       "      <td>Alive</td>\n",
       "      <td>Not Confirmed</td>\n",
       "    </tr>\n",
       "    <tr>\n",
       "      <th>4</th>\n",
       "      <td>5</td>\n",
       "      <td>Male</td>\n",
       "      <td>Oyo</td>\n",
       "      <td>Urban</td>\n",
       "      <td>2017-08-28 00:00:00</td>\n",
       "      <td>2017.0</td>\n",
       "      <td>9</td>\n",
       "      <td>2008-01-07 00:00:00</td>\n",
       "      <td>Rubella Mars</td>\n",
       "      <td>Alive</td>\n",
       "      <td>Confirmed</td>\n",
       "    </tr>\n",
       "    <tr>\n",
       "      <th>...</th>\n",
       "      <td>...</td>\n",
       "      <td>...</td>\n",
       "      <td>...</td>\n",
       "      <td>...</td>\n",
       "      <td>...</td>\n",
       "      <td>...</td>\n",
       "      <td>...</td>\n",
       "      <td>...</td>\n",
       "      <td>...</td>\n",
       "      <td>...</td>\n",
       "      <td>...</td>\n",
       "    </tr>\n",
       "    <tr>\n",
       "      <th>2461</th>\n",
       "      <td>2498</td>\n",
       "      <td>Male</td>\n",
       "      <td>Kaduna</td>\n",
       "      <td>Rural</td>\n",
       "      <td>2017-07-06 00:00:00</td>\n",
       "      <td>2017.0</td>\n",
       "      <td>57</td>\n",
       "      <td>1960-02-26 00:00:00</td>\n",
       "      <td>Viral Haemmorrhaphic Fever</td>\n",
       "      <td>Dead</td>\n",
       "      <td>Confirmed</td>\n",
       "    </tr>\n",
       "    <tr>\n",
       "      <th>2462</th>\n",
       "      <td>2499</td>\n",
       "      <td>Female</td>\n",
       "      <td>Adamawa</td>\n",
       "      <td>Rural</td>\n",
       "      <td>2010-04-20 00:00:00</td>\n",
       "      <td>2010.0</td>\n",
       "      <td>35</td>\n",
       "      <td>1975-06-14 00:00:00</td>\n",
       "      <td>Malaria</td>\n",
       "      <td>Alive</td>\n",
       "      <td>Confirmed</td>\n",
       "    </tr>\n",
       "    <tr>\n",
       "      <th>2463</th>\n",
       "      <td>2500</td>\n",
       "      <td>Female</td>\n",
       "      <td>Ekiti</td>\n",
       "      <td>Urban</td>\n",
       "      <td>2012-04-06 00:00:00</td>\n",
       "      <td>2012.0</td>\n",
       "      <td>53</td>\n",
       "      <td>1959-05-16 00:00:00</td>\n",
       "      <td>Measles</td>\n",
       "      <td>Dead</td>\n",
       "      <td>Confirmed</td>\n",
       "    </tr>\n",
       "    <tr>\n",
       "      <th>2464</th>\n",
       "      <td>6</td>\n",
       "      <td>Female</td>\n",
       "      <td>Kaduna</td>\n",
       "      <td>Rural</td>\n",
       "      <td>2012-06-27 00:00:00</td>\n",
       "      <td>2012.0</td>\n",
       "      <td>44</td>\n",
       "      <td>1968-06-06 00:00:00</td>\n",
       "      <td>Ebola</td>\n",
       "      <td>Alive</td>\n",
       "      <td>Confirmed</td>\n",
       "    </tr>\n",
       "    <tr>\n",
       "      <th>2465</th>\n",
       "      <td>7</td>\n",
       "      <td>Female</td>\n",
       "      <td>Taraba</td>\n",
       "      <td>Rural</td>\n",
       "      <td>2010-04-01 00:00:00</td>\n",
       "      <td>2010.0</td>\n",
       "      <td>61</td>\n",
       "      <td>1949-07-19 00:00:00</td>\n",
       "      <td>Yellow Fever</td>\n",
       "      <td>Alive</td>\n",
       "      <td>Confirmed</td>\n",
       "    </tr>\n",
       "  </tbody>\n",
       "</table>\n",
       "<p>2466 rows × 11 columns</p>\n",
       "</div>"
      ],
      "text/plain": [
       "        id  gender    state settlement          report_date  report_year  age  \\\n",
       "0        1  Female   Rivers      Rural  2018-05-15 00:00:00       2018.0   32   \n",
       "1        2    Male   Ebonyi      Rural  2017-02-28 00:00:00       2017.0   32   \n",
       "2        3  Female     Ogun      Urban  2012-03-02 00:00:00       2012.0   24   \n",
       "3        4  Female     Ondo      Rural  2010-05-21 00:00:00          NaN   63   \n",
       "4        5    Male      Oyo      Urban  2017-08-28 00:00:00       2017.0    9   \n",
       "...    ...     ...      ...        ...                  ...          ...  ...   \n",
       "2461  2498    Male   Kaduna      Rural  2017-07-06 00:00:00       2017.0   57   \n",
       "2462  2499  Female  Adamawa      Rural  2010-04-20 00:00:00       2010.0   35   \n",
       "2463  2500  Female    Ekiti      Urban  2012-04-06 00:00:00       2012.0   53   \n",
       "2464     6  Female   Kaduna      Rural  2012-06-27 00:00:00       2012.0   44   \n",
       "2465     7  Female   Taraba      Rural  2010-04-01 00:00:00       2010.0   61   \n",
       "\n",
       "            date_of_birth                     disease health_status  \\\n",
       "0     1986-01-17 00:00:00                     Cholera         alive   \n",
       "1     1985-09-01 00:00:00               Marburg Virus         Alive   \n",
       "2     1988-05-01 00:00:00               Marburg Virus          dead   \n",
       "3     1947-05-24 00:00:00                     Measles         Alive   \n",
       "4     2008-01-07 00:00:00                Rubella Mars         Alive   \n",
       "...                   ...                         ...           ...   \n",
       "2461  1960-02-26 00:00:00  Viral Haemmorrhaphic Fever          Dead   \n",
       "2462  1975-06-14 00:00:00                     Malaria         Alive   \n",
       "2463  1959-05-16 00:00:00                     Measles          Dead   \n",
       "2464  1968-06-06 00:00:00                       Ebola         Alive   \n",
       "2465  1949-07-19 00:00:00                Yellow Fever         Alive   \n",
       "\n",
       "     report_outcome  \n",
       "0         confirmed  \n",
       "1         Confirmed  \n",
       "2     Not Confirmed  \n",
       "3     Not Confirmed  \n",
       "4         Confirmed  \n",
       "...             ...  \n",
       "2461      Confirmed  \n",
       "2462      Confirmed  \n",
       "2463      Confirmed  \n",
       "2464      Confirmed  \n",
       "2465      Confirmed  \n",
       "\n",
       "[2466 rows x 11 columns]"
      ]
     },
     "execution_count": 3,
     "metadata": {},
     "output_type": "execute_result"
    }
   ],
   "source": [
    "disease_df"
   ]
  },
  {
   "cell_type": "code",
   "execution_count": 4,
   "id": "a751f51a-9325-429d-a988-02d4a2ab5e6e",
   "metadata": {},
   "outputs": [
    {
     "name": "stdout",
     "output_type": "stream",
     "text": [
      "<class 'pandas.core.frame.DataFrame'>\n",
      "RangeIndex: 2466 entries, 0 to 2465\n",
      "Data columns (total 11 columns):\n",
      " #   Column          Non-Null Count  Dtype  \n",
      "---  ------          --------------  -----  \n",
      " 0   id              2466 non-null   int64  \n",
      " 1   gender          2466 non-null   object \n",
      " 2   state           2466 non-null   object \n",
      " 3   settlement      2466 non-null   object \n",
      " 4   report_date     2466 non-null   object \n",
      " 5   report_year     2462 non-null   float64\n",
      " 6   age             2466 non-null   int64  \n",
      " 7   date_of_birth   2466 non-null   object \n",
      " 8   disease         2466 non-null   object \n",
      " 9   health_status   2466 non-null   object \n",
      " 10  report_outcome  2466 non-null   object \n",
      "dtypes: float64(1), int64(2), object(8)\n",
      "memory usage: 212.1+ KB\n"
     ]
    }
   ],
   "source": [
    "disease_df.info()"
   ]
  },
  {
   "cell_type": "markdown",
   "id": "3f932d1c-84ff-4571-950a-dc303d54c6da",
   "metadata": {},
   "source": [
    "### Observations\n",
    "1. 2466 enteries and 11 columns\n",
    "2. report_date and date_of_birth should be in datetime format and not object(string)\n",
    "3. report_year has 4 nulls values"
   ]
  },
  {
   "cell_type": "code",
   "execution_count": 5,
   "id": "90912b56-5fa6-439f-81b6-5bfb21b921d2",
   "metadata": {},
   "outputs": [
    {
     "data": {
      "text/html": [
       "<div>\n",
       "<style scoped>\n",
       "    .dataframe tbody tr th:only-of-type {\n",
       "        vertical-align: middle;\n",
       "    }\n",
       "\n",
       "    .dataframe tbody tr th {\n",
       "        vertical-align: top;\n",
       "    }\n",
       "\n",
       "    .dataframe thead th {\n",
       "        text-align: right;\n",
       "    }\n",
       "</style>\n",
       "<table border=\"1\" class=\"dataframe\">\n",
       "  <thead>\n",
       "    <tr style=\"text-align: right;\">\n",
       "      <th></th>\n",
       "      <th>id</th>\n",
       "      <th>gender</th>\n",
       "      <th>state</th>\n",
       "      <th>settlement</th>\n",
       "      <th>report_date</th>\n",
       "      <th>report_year</th>\n",
       "      <th>age</th>\n",
       "      <th>date_of_birth</th>\n",
       "      <th>disease</th>\n",
       "      <th>health_status</th>\n",
       "      <th>report_outcome</th>\n",
       "    </tr>\n",
       "  </thead>\n",
       "  <tbody>\n",
       "    <tr>\n",
       "      <th>28</th>\n",
       "      <td>27</td>\n",
       "      <td>Female</td>\n",
       "      <td>Adamawa</td>\n",
       "      <td>Urban</td>\n",
       "      <td>2018-11-17 00:00:00</td>\n",
       "      <td>2018.0</td>\n",
       "      <td>72</td>\n",
       "      <td>1946-07-02 00:00:00</td>\n",
       "      <td>Yellow Fever</td>\n",
       "      <td>Alive</td>\n",
       "      <td>Confirmed</td>\n",
       "    </tr>\n",
       "    <tr>\n",
       "      <th>29</th>\n",
       "      <td>28</td>\n",
       "      <td>Female</td>\n",
       "      <td>Kwara</td>\n",
       "      <td>Urban</td>\n",
       "      <td>2016-08-06 00:00:00</td>\n",
       "      <td>2016.0</td>\n",
       "      <td>7</td>\n",
       "      <td>2009-08-20 00:00:00</td>\n",
       "      <td>Viral Haemmorrhaphic Fever</td>\n",
       "      <td>Dead</td>\n",
       "      <td>Confirmed</td>\n",
       "    </tr>\n",
       "    <tr>\n",
       "      <th>2449</th>\n",
       "      <td>2483</td>\n",
       "      <td>Male</td>\n",
       "      <td>Rivers</td>\n",
       "      <td>Rural</td>\n",
       "      <td>2013-11-23 00:00:00</td>\n",
       "      <td>2013.0</td>\n",
       "      <td>19</td>\n",
       "      <td>1994-11-10 00:00:00</td>\n",
       "      <td>Diarrhoea</td>\n",
       "      <td>Dead</td>\n",
       "      <td>Not Confirmed</td>\n",
       "    </tr>\n",
       "    <tr>\n",
       "      <th>2450</th>\n",
       "      <td>2484</td>\n",
       "      <td>Female</td>\n",
       "      <td>Kebbi</td>\n",
       "      <td>Urban</td>\n",
       "      <td>2015-04-16 00:00:00</td>\n",
       "      <td>2015.0</td>\n",
       "      <td>46</td>\n",
       "      <td>1969-12-19 00:00:00</td>\n",
       "      <td>Malaria</td>\n",
       "      <td>Dead</td>\n",
       "      <td>Confirmed</td>\n",
       "    </tr>\n",
       "    <tr>\n",
       "      <th>2464</th>\n",
       "      <td>6</td>\n",
       "      <td>Female</td>\n",
       "      <td>Kaduna</td>\n",
       "      <td>Rural</td>\n",
       "      <td>2012-06-27 00:00:00</td>\n",
       "      <td>2012.0</td>\n",
       "      <td>44</td>\n",
       "      <td>1968-06-06 00:00:00</td>\n",
       "      <td>Ebola</td>\n",
       "      <td>Alive</td>\n",
       "      <td>Confirmed</td>\n",
       "    </tr>\n",
       "  </tbody>\n",
       "</table>\n",
       "</div>"
      ],
      "text/plain": [
       "        id  gender    state settlement          report_date  report_year  age  \\\n",
       "28      27  Female  Adamawa      Urban  2018-11-17 00:00:00       2018.0   72   \n",
       "29      28  Female    Kwara      Urban  2016-08-06 00:00:00       2016.0    7   \n",
       "2449  2483    Male   Rivers      Rural  2013-11-23 00:00:00       2013.0   19   \n",
       "2450  2484  Female    Kebbi      Urban  2015-04-16 00:00:00       2015.0   46   \n",
       "2464     6  Female   Kaduna      Rural  2012-06-27 00:00:00       2012.0   44   \n",
       "\n",
       "            date_of_birth                     disease health_status  \\\n",
       "28    1946-07-02 00:00:00                Yellow Fever         Alive   \n",
       "29    2009-08-20 00:00:00  Viral Haemmorrhaphic Fever          Dead   \n",
       "2449  1994-11-10 00:00:00                   Diarrhoea          Dead   \n",
       "2450  1969-12-19 00:00:00                     Malaria          Dead   \n",
       "2464  1968-06-06 00:00:00                       Ebola         Alive   \n",
       "\n",
       "     report_outcome  \n",
       "28        Confirmed  \n",
       "29        Confirmed  \n",
       "2449  Not Confirmed  \n",
       "2450      Confirmed  \n",
       "2464      Confirmed  "
      ]
     },
     "execution_count": 5,
     "metadata": {},
     "output_type": "execute_result"
    }
   ],
   "source": [
    "#Checking for duplicates\n",
    "disease_df[disease_df.duplicated()]\n",
    "# 5 duplicates found"
   ]
  },
  {
   "cell_type": "code",
   "execution_count": 6,
   "id": "e6f61377-a4de-4a7e-b2ea-ab37fe47881f",
   "metadata": {},
   "outputs": [],
   "source": [
    "disease_df.drop_duplicates(inplace=True)\n",
    "# 5 duplicates dropped"
   ]
  },
  {
   "cell_type": "code",
   "execution_count": 7,
   "id": "dff8ccc6-9dfa-4978-81da-5f8ae7e89775",
   "metadata": {},
   "outputs": [
    {
     "name": "stdout",
     "output_type": "stream",
     "text": [
      "<class 'pandas.core.frame.DataFrame'>\n",
      "Index: 2461 entries, 0 to 2465\n",
      "Data columns (total 11 columns):\n",
      " #   Column          Non-Null Count  Dtype  \n",
      "---  ------          --------------  -----  \n",
      " 0   id              2461 non-null   int64  \n",
      " 1   gender          2461 non-null   object \n",
      " 2   state           2461 non-null   object \n",
      " 3   settlement      2461 non-null   object \n",
      " 4   report_date     2461 non-null   object \n",
      " 5   report_year     2457 non-null   float64\n",
      " 6   age             2461 non-null   int64  \n",
      " 7   date_of_birth   2461 non-null   object \n",
      " 8   disease         2461 non-null   object \n",
      " 9   health_status   2461 non-null   object \n",
      " 10  report_outcome  2461 non-null   object \n",
      "dtypes: float64(1), int64(2), object(8)\n",
      "memory usage: 230.7+ KB\n"
     ]
    }
   ],
   "source": [
    "disease_df.info()\n",
    "#2461 enteries"
   ]
  },
  {
   "cell_type": "code",
   "execution_count": 8,
   "id": "4e85ffe3-6b32-4e9a-84d0-9373871758b2",
   "metadata": {},
   "outputs": [],
   "source": [
    "# reseting index\n",
    "disease_df.reset_index(inplace=True)"
   ]
  },
  {
   "cell_type": "code",
   "execution_count": 9,
   "id": "c5403d61-ba5f-4f4f-883a-d92358602f03",
   "metadata": {},
   "outputs": [],
   "source": [
    "disease_df.drop(columns='index', inplace=True)"
   ]
  },
  {
   "cell_type": "markdown",
   "id": "bd34c827-4594-4663-9149-3b6695d3373b",
   "metadata": {},
   "source": [
    "#### gender column"
   ]
  },
  {
   "cell_type": "code",
   "execution_count": 10,
   "id": "5fe261fd-7dc2-4cf0-8141-f36335ee4cfc",
   "metadata": {},
   "outputs": [
    {
     "data": {
      "text/plain": [
       "array(['Female', 'Male', 'F', 'M'], dtype=object)"
      ]
     },
     "execution_count": 10,
     "metadata": {},
     "output_type": "execute_result"
    }
   ],
   "source": [
    "# Checking for inaccurate or inconsistent values\n",
    "disease_df['gender'].unique()"
   ]
  },
  {
   "cell_type": "markdown",
   "id": "39affbe1-c0e8-4947-be03-caff9ccf0b5e",
   "metadata": {},
   "source": [
    "'F' and 'M' are inaccurate and should be replace with 'Female' and 'Male' respectively"
   ]
  },
  {
   "cell_type": "code",
   "execution_count": 11,
   "id": "728c4c55-c53a-43c3-b9e8-e0449c336a46",
   "metadata": {},
   "outputs": [],
   "source": [
    "disease_df['gender'].replace({'F':'Female', 'M':'Male'}, inplace=True)"
   ]
  },
  {
   "cell_type": "code",
   "execution_count": 12,
   "id": "8e7b7e92-a609-4df6-ab42-6b6c0340438d",
   "metadata": {},
   "outputs": [
    {
     "data": {
      "text/plain": [
       "array(['Female', 'Male'], dtype=object)"
      ]
     },
     "execution_count": 12,
     "metadata": {},
     "output_type": "execute_result"
    }
   ],
   "source": [
    "#Confirming if the corrections has been made\n",
    "disease_df['gender'].unique()"
   ]
  },
  {
   "cell_type": "markdown",
   "id": "0927d204-9999-4f81-b8f5-03639394afeb",
   "metadata": {},
   "source": [
    "#### state column"
   ]
  },
  {
   "cell_type": "code",
   "execution_count": 13,
   "id": "4ee90c83-1343-4934-af59-30e333a10933",
   "metadata": {},
   "outputs": [
    {
     "data": {
      "text/plain": [
       "array(['Rivers', 'Ebonyi', 'Ogun', 'Ondo', 'Oyo', 'Kaduna', 'Taraba',\n",
       "       'Katsina', 'Osun', 'Niger', 'Cross River', 'Adamawa', 'Nasarawa',\n",
       "       'Imo', 'Abia', 'Yobe', 'Delta', 'Jigawa', 'Borno', 'Kwara',\n",
       "       'Bayelsa', 'Federal Capital Territory', 'Kogi', 'Gombe', 'Sokoto',\n",
       "       'Anambra', 'Kebbi', 'Lagos', 'Plateau', 'Zamfara', 'Edo', 'Ekiti',\n",
       "       'Enugu', 'Bauchi', 'Kano', 'Benue', 'Akwa Ibom'], dtype=object)"
      ]
     },
     "execution_count": 13,
     "metadata": {},
     "output_type": "execute_result"
    }
   ],
   "source": [
    "# Checking for inaccurate or inconsistent values\n",
    "disease_df['state'].unique()"
   ]
  },
  {
   "cell_type": "code",
   "execution_count": 14,
   "id": "64d0a4c5-4f97-42a9-8259-babb45f40067",
   "metadata": {},
   "outputs": [],
   "source": [
    "disease_df[\"state\"].replace({\"Federal Capital Territory\":\"FCT\"},inplace= True)"
   ]
  },
  {
   "cell_type": "code",
   "execution_count": 15,
   "id": "c8c04a1d-9de1-4128-8211-e5a03287026b",
   "metadata": {},
   "outputs": [
    {
     "data": {
      "text/plain": [
       "array(['Rivers', 'Ebonyi', 'Ogun', 'Ondo', 'Oyo', 'Kaduna', 'Taraba',\n",
       "       'Katsina', 'Osun', 'Niger', 'Cross River', 'Adamawa', 'Nasarawa',\n",
       "       'Imo', 'Abia', 'Yobe', 'Delta', 'Jigawa', 'Borno', 'Kwara',\n",
       "       'Bayelsa', 'FCT', 'Kogi', 'Gombe', 'Sokoto', 'Anambra', 'Kebbi',\n",
       "       'Lagos', 'Plateau', 'Zamfara', 'Edo', 'Ekiti', 'Enugu', 'Bauchi',\n",
       "       'Kano', 'Benue', 'Akwa Ibom'], dtype=object)"
      ]
     },
     "execution_count": 15,
     "metadata": {},
     "output_type": "execute_result"
    }
   ],
   "source": [
    "#Confirming if the corrections has been made\n",
    "disease_df['state'].unique()"
   ]
  },
  {
   "cell_type": "markdown",
   "id": "4a7fc347-fda7-4628-834e-01e80be40fc7",
   "metadata": {},
   "source": [
    "#### settlement column"
   ]
  },
  {
   "cell_type": "code",
   "execution_count": 16,
   "id": "a3cee3d6-9a37-46f3-9fdc-d4f9c2844b54",
   "metadata": {},
   "outputs": [
    {
     "data": {
      "text/plain": [
       "array(['Rural', 'Urban', 'Rurale', 'Urbn'], dtype=object)"
      ]
     },
     "execution_count": 16,
     "metadata": {},
     "output_type": "execute_result"
    }
   ],
   "source": [
    "# Checking for inaccurate or inconsistent values\n",
    "disease_df['settlement'].unique()"
   ]
  },
  {
   "cell_type": "markdown",
   "id": "c7404ead-0054-44c1-b5cf-a2407f16ec43",
   "metadata": {},
   "source": [
    "'Rurale' and 'Urbn' are inaccurate and should be replace with 'Rural' and 'Urban' respectively"
   ]
  },
  {
   "cell_type": "code",
   "execution_count": 17,
   "id": "9c3e7c5e-c3e1-48b5-9fe3-d28d367b5d62",
   "metadata": {},
   "outputs": [],
   "source": [
    "disease_df['settlement'].replace({'Rurale':'Rural', 'Urbn':'Urban'}, inplace=True)"
   ]
  },
  {
   "cell_type": "code",
   "execution_count": 18,
   "id": "952e5302-e82c-4ab1-acf1-4133489994f3",
   "metadata": {},
   "outputs": [
    {
     "data": {
      "text/plain": [
       "array(['Rural', 'Urban'], dtype=object)"
      ]
     },
     "execution_count": 18,
     "metadata": {},
     "output_type": "execute_result"
    }
   ],
   "source": [
    "#Confirming if the corrections has been made\n",
    "disease_df['settlement'].unique()"
   ]
  },
  {
   "cell_type": "markdown",
   "id": "5bec5b0e-f0d9-4b5f-ac4a-4f08981ff8ac",
   "metadata": {},
   "source": [
    "#### report_date column"
   ]
  },
  {
   "cell_type": "code",
   "execution_count": 19,
   "id": "250f99f4-a2d0-44c6-81af-5810b2b905b6",
   "metadata": {},
   "outputs": [
    {
     "data": {
      "text/plain": [
       "0       False\n",
       "1       False\n",
       "2       False\n",
       "3       False\n",
       "4       False\n",
       "        ...  \n",
       "2456    False\n",
       "2457    False\n",
       "2458    False\n",
       "2459    False\n",
       "2460    False\n",
       "Name: report_date, Length: 2461, dtype: bool"
      ]
     },
     "execution_count": 19,
     "metadata": {},
     "output_type": "execute_result"
    }
   ],
   "source": [
    "disease_df['report_date']== 0000-00-00"
   ]
  },
  {
   "cell_type": "code",
   "execution_count": 20,
   "id": "5f9bed0c-a283-4d91-bad8-893f814ed6b5",
   "metadata": {},
   "outputs": [],
   "source": [
    "# Change report_date from an object to a datetime format\n",
    "disease_df['report_date'] = pd.to_datetime(disease_df['report_date'], errors='coerce')"
   ]
  },
  {
   "cell_type": "code",
   "execution_count": 21,
   "id": "3ec6e0e0-4269-4b44-9e26-0d81859f325c",
   "metadata": {},
   "outputs": [
    {
     "name": "stdout",
     "output_type": "stream",
     "text": [
      "<class 'pandas.core.frame.DataFrame'>\n",
      "RangeIndex: 2461 entries, 0 to 2460\n",
      "Data columns (total 11 columns):\n",
      " #   Column          Non-Null Count  Dtype         \n",
      "---  ------          --------------  -----         \n",
      " 0   id              2461 non-null   int64         \n",
      " 1   gender          2461 non-null   object        \n",
      " 2   state           2461 non-null   object        \n",
      " 3   settlement      2461 non-null   object        \n",
      " 4   report_date     2460 non-null   datetime64[ns]\n",
      " 5   report_year     2457 non-null   float64       \n",
      " 6   age             2461 non-null   int64         \n",
      " 7   date_of_birth   2461 non-null   object        \n",
      " 8   disease         2461 non-null   object        \n",
      " 9   health_status   2461 non-null   object        \n",
      " 10  report_outcome  2461 non-null   object        \n",
      "dtypes: datetime64[ns](1), float64(1), int64(2), object(7)\n",
      "memory usage: 211.6+ KB\n"
     ]
    }
   ],
   "source": [
    "#Confirming if the change has been effected\n",
    "disease_df.info()"
   ]
  },
  {
   "cell_type": "markdown",
   "id": "b3b2df02-ef75-47cd-a8c4-b9235fee4af5",
   "metadata": {},
   "source": [
    "#### report_year column"
   ]
  },
  {
   "cell_type": "code",
   "execution_count": 22,
   "id": "18efeb40-6aad-4400-94d3-34525a085b6e",
   "metadata": {},
   "outputs": [
    {
     "data": {
      "text/html": [
       "<div>\n",
       "<style scoped>\n",
       "    .dataframe tbody tr th:only-of-type {\n",
       "        vertical-align: middle;\n",
       "    }\n",
       "\n",
       "    .dataframe tbody tr th {\n",
       "        vertical-align: top;\n",
       "    }\n",
       "\n",
       "    .dataframe thead th {\n",
       "        text-align: right;\n",
       "    }\n",
       "</style>\n",
       "<table border=\"1\" class=\"dataframe\">\n",
       "  <thead>\n",
       "    <tr style=\"text-align: right;\">\n",
       "      <th></th>\n",
       "      <th>id</th>\n",
       "      <th>gender</th>\n",
       "      <th>state</th>\n",
       "      <th>settlement</th>\n",
       "      <th>report_date</th>\n",
       "      <th>report_year</th>\n",
       "      <th>age</th>\n",
       "      <th>date_of_birth</th>\n",
       "      <th>disease</th>\n",
       "      <th>health_status</th>\n",
       "      <th>report_outcome</th>\n",
       "    </tr>\n",
       "  </thead>\n",
       "  <tbody>\n",
       "    <tr>\n",
       "      <th>3</th>\n",
       "      <td>4</td>\n",
       "      <td>Female</td>\n",
       "      <td>Ondo</td>\n",
       "      <td>Rural</td>\n",
       "      <td>2010-05-21</td>\n",
       "      <td>NaN</td>\n",
       "      <td>63</td>\n",
       "      <td>1947-05-24 00:00:00</td>\n",
       "      <td>Measles</td>\n",
       "      <td>Alive</td>\n",
       "      <td>Not Confirmed</td>\n",
       "    </tr>\n",
       "    <tr>\n",
       "      <th>6</th>\n",
       "      <td>7</td>\n",
       "      <td>Female</td>\n",
       "      <td>Taraba</td>\n",
       "      <td>Rural</td>\n",
       "      <td>2010-04-01</td>\n",
       "      <td>NaN</td>\n",
       "      <td>61</td>\n",
       "      <td>1949-07-19 00:00:00</td>\n",
       "      <td>Yellow Fever</td>\n",
       "      <td>Alive</td>\n",
       "      <td>Confirmed</td>\n",
       "    </tr>\n",
       "    <tr>\n",
       "      <th>13</th>\n",
       "      <td>14</td>\n",
       "      <td>Male</td>\n",
       "      <td>Nasarawa</td>\n",
       "      <td>Rural</td>\n",
       "      <td>2016-11-19</td>\n",
       "      <td>NaN</td>\n",
       "      <td>3</td>\n",
       "      <td>2013-05-12 00:00:00</td>\n",
       "      <td>Ebola</td>\n",
       "      <td>Alive</td>\n",
       "      <td>Not Confirmed</td>\n",
       "    </tr>\n",
       "    <tr>\n",
       "      <th>37</th>\n",
       "      <td>39</td>\n",
       "      <td>Female</td>\n",
       "      <td>Kaduna</td>\n",
       "      <td>Rural</td>\n",
       "      <td>2010-04-02</td>\n",
       "      <td>NaN</td>\n",
       "      <td>66</td>\n",
       "      <td>1944-01-02 00:00:00</td>\n",
       "      <td>Malaria</td>\n",
       "      <td>Dead</td>\n",
       "      <td>Confirmed</td>\n",
       "    </tr>\n",
       "  </tbody>\n",
       "</table>\n",
       "</div>"
      ],
      "text/plain": [
       "    id  gender     state settlement report_date  report_year  age  \\\n",
       "3    4  Female      Ondo      Rural  2010-05-21          NaN   63   \n",
       "6    7  Female    Taraba      Rural  2010-04-01          NaN   61   \n",
       "13  14    Male  Nasarawa      Rural  2016-11-19          NaN    3   \n",
       "37  39  Female    Kaduna      Rural  2010-04-02          NaN   66   \n",
       "\n",
       "          date_of_birth       disease health_status report_outcome  \n",
       "3   1947-05-24 00:00:00       Measles         Alive  Not Confirmed  \n",
       "6   1949-07-19 00:00:00  Yellow Fever         Alive      Confirmed  \n",
       "13  2013-05-12 00:00:00         Ebola         Alive  Not Confirmed  \n",
       "37  1944-01-02 00:00:00       Malaria          Dead      Confirmed  "
      ]
     },
     "execution_count": 22,
     "metadata": {},
     "output_type": "execute_result"
    }
   ],
   "source": [
    "#Checking for null values in the report year\n",
    "disease_df[disease_df['report_year'].isna()]"
   ]
  },
  {
   "cell_type": "code",
   "execution_count": 23,
   "id": "f723f63f-5f7b-485d-a2cc-a97b74756b86",
   "metadata": {},
   "outputs": [],
   "source": [
    "#filling in the blank spaces\n",
    "for i in disease_df[disease_df['report_year'].isna()].index:\n",
    "    disease_df.loc[i,'report_year'] = disease_df.loc[i,'report_date'].year"
   ]
  },
  {
   "cell_type": "code",
   "execution_count": 24,
   "id": "c911d821-32f0-453d-88de-058ca03db535",
   "metadata": {},
   "outputs": [
    {
     "data": {
      "text/plain": [
       "3     2010.0\n",
       "6     2010.0\n",
       "13    2016.0\n",
       "37    2010.0\n",
       "Name: report_year, dtype: float64"
      ]
     },
     "execution_count": 24,
     "metadata": {},
     "output_type": "execute_result"
    }
   ],
   "source": [
    "#Confirming if the blank spaces has been filled\n",
    "disease_df.loc[[3,6,13,37],'report_year']"
   ]
  },
  {
   "cell_type": "code",
   "execution_count": 25,
   "id": "b63782f5-0bd8-4925-8c7b-9f7f8163b4b1",
   "metadata": {},
   "outputs": [],
   "source": [
    "#Changing the float to int in the report_year column\n",
    "disease_df['report_year']=disease_df['report_year'].astype('int')"
   ]
  },
  {
   "cell_type": "code",
   "execution_count": 26,
   "id": "a3216bb7-99e9-49fe-9180-770bb564f42e",
   "metadata": {},
   "outputs": [
    {
     "data": {
      "text/plain": [
       "dtype('int32')"
      ]
     },
     "execution_count": 26,
     "metadata": {},
     "output_type": "execute_result"
    }
   ],
   "source": [
    "disease_df['report_year'].dtype"
   ]
  },
  {
   "cell_type": "markdown",
   "id": "986d9ded-f3bb-40af-a01b-84a8316ff287",
   "metadata": {},
   "source": [
    "#### date_of_birth column"
   ]
  },
  {
   "cell_type": "code",
   "execution_count": 27,
   "id": "4d9c1052-5603-42f7-bd93-7db30186f3a6",
   "metadata": {},
   "outputs": [],
   "source": [
    "#Chnaging the date_of_birth from object to a datetime format\n",
    "disease_df['date_of_birth']=pd.to_datetime(disease_df['date_of_birth'], errors='coerce')"
   ]
  },
  {
   "cell_type": "code",
   "execution_count": 28,
   "id": "c788ed68-7a06-4abe-9ef6-9afb43701d6b",
   "metadata": {},
   "outputs": [],
   "source": [
    "#checking for inconsistent rows\n",
    "inconsistent_rows= disease_df['date_of_birth'] > disease_df['report_date']"
   ]
  },
  {
   "cell_type": "code",
   "execution_count": 29,
   "id": "64e76ce1-dfd6-4bee-aecb-22df98a15c35",
   "metadata": {},
   "outputs": [
    {
     "data": {
      "text/html": [
       "<div>\n",
       "<style scoped>\n",
       "    .dataframe tbody tr th:only-of-type {\n",
       "        vertical-align: middle;\n",
       "    }\n",
       "\n",
       "    .dataframe tbody tr th {\n",
       "        vertical-align: top;\n",
       "    }\n",
       "\n",
       "    .dataframe thead th {\n",
       "        text-align: right;\n",
       "    }\n",
       "</style>\n",
       "<table border=\"1\" class=\"dataframe\">\n",
       "  <thead>\n",
       "    <tr style=\"text-align: right;\">\n",
       "      <th></th>\n",
       "      <th>id</th>\n",
       "      <th>gender</th>\n",
       "      <th>state</th>\n",
       "      <th>settlement</th>\n",
       "      <th>report_date</th>\n",
       "      <th>report_year</th>\n",
       "      <th>age</th>\n",
       "      <th>date_of_birth</th>\n",
       "      <th>disease</th>\n",
       "      <th>health_status</th>\n",
       "      <th>report_outcome</th>\n",
       "    </tr>\n",
       "  </thead>\n",
       "  <tbody>\n",
       "    <tr>\n",
       "      <th>15</th>\n",
       "      <td>16</td>\n",
       "      <td>Female</td>\n",
       "      <td>Imo</td>\n",
       "      <td>Urban</td>\n",
       "      <td>2012-08-23</td>\n",
       "      <td>2012</td>\n",
       "      <td>2</td>\n",
       "      <td>2015-06-21</td>\n",
       "      <td>Meningitis</td>\n",
       "      <td>Alive</td>\n",
       "      <td>Not Confirmed</td>\n",
       "    </tr>\n",
       "    <tr>\n",
       "      <th>29</th>\n",
       "      <td>30</td>\n",
       "      <td>Female</td>\n",
       "      <td>Yobe</td>\n",
       "      <td>Urban</td>\n",
       "      <td>2014-11-11</td>\n",
       "      <td>2014</td>\n",
       "      <td>7</td>\n",
       "      <td>2018-04-19</td>\n",
       "      <td>Marburg Virus</td>\n",
       "      <td>Alive</td>\n",
       "      <td>Confirmed</td>\n",
       "    </tr>\n",
       "    <tr>\n",
       "      <th>43</th>\n",
       "      <td>45</td>\n",
       "      <td>Female</td>\n",
       "      <td>Osun</td>\n",
       "      <td>Rural</td>\n",
       "      <td>2012-02-02</td>\n",
       "      <td>2012</td>\n",
       "      <td>3</td>\n",
       "      <td>2016-05-06</td>\n",
       "      <td>Yellow Fever</td>\n",
       "      <td>Dead</td>\n",
       "      <td>Confirmed</td>\n",
       "    </tr>\n",
       "    <tr>\n",
       "      <th>44</th>\n",
       "      <td>46</td>\n",
       "      <td>Female</td>\n",
       "      <td>Kebbi</td>\n",
       "      <td>Rural</td>\n",
       "      <td>2013-08-30</td>\n",
       "      <td>2013</td>\n",
       "      <td>4</td>\n",
       "      <td>2013-12-10</td>\n",
       "      <td>Cholera</td>\n",
       "      <td>Dead</td>\n",
       "      <td>Not Confirmed</td>\n",
       "    </tr>\n",
       "    <tr>\n",
       "      <th>82</th>\n",
       "      <td>86</td>\n",
       "      <td>Female</td>\n",
       "      <td>Jigawa</td>\n",
       "      <td>Urban</td>\n",
       "      <td>2010-12-26</td>\n",
       "      <td>2010</td>\n",
       "      <td>3</td>\n",
       "      <td>2017-09-26</td>\n",
       "      <td>Viral Haemmorrhaphic Fever</td>\n",
       "      <td>Dead</td>\n",
       "      <td>Confirmed</td>\n",
       "    </tr>\n",
       "    <tr>\n",
       "      <th>...</th>\n",
       "      <td>...</td>\n",
       "      <td>...</td>\n",
       "      <td>...</td>\n",
       "      <td>...</td>\n",
       "      <td>...</td>\n",
       "      <td>...</td>\n",
       "      <td>...</td>\n",
       "      <td>...</td>\n",
       "      <td>...</td>\n",
       "      <td>...</td>\n",
       "      <td>...</td>\n",
       "    </tr>\n",
       "    <tr>\n",
       "      <th>2392</th>\n",
       "      <td>2430</td>\n",
       "      <td>Female</td>\n",
       "      <td>Bayelsa</td>\n",
       "      <td>Rural</td>\n",
       "      <td>2013-10-10</td>\n",
       "      <td>2013</td>\n",
       "      <td>2</td>\n",
       "      <td>2015-12-12</td>\n",
       "      <td>Measles</td>\n",
       "      <td>Alive</td>\n",
       "      <td>Confirmed</td>\n",
       "    </tr>\n",
       "    <tr>\n",
       "      <th>2409</th>\n",
       "      <td>2449</td>\n",
       "      <td>Male</td>\n",
       "      <td>Nasarawa</td>\n",
       "      <td>Urban</td>\n",
       "      <td>2014-12-25</td>\n",
       "      <td>2014</td>\n",
       "      <td>3</td>\n",
       "      <td>2015-09-23</td>\n",
       "      <td>Ebola</td>\n",
       "      <td>Dead</td>\n",
       "      <td>Not Confirmed</td>\n",
       "    </tr>\n",
       "    <tr>\n",
       "      <th>2414</th>\n",
       "      <td>2454</td>\n",
       "      <td>Female</td>\n",
       "      <td>Kano</td>\n",
       "      <td>Rural</td>\n",
       "      <td>2010-09-17</td>\n",
       "      <td>2010</td>\n",
       "      <td>3</td>\n",
       "      <td>2014-12-27</td>\n",
       "      <td>Ebola</td>\n",
       "      <td>Dead</td>\n",
       "      <td>Confirmed</td>\n",
       "    </tr>\n",
       "    <tr>\n",
       "      <th>2416</th>\n",
       "      <td>2456</td>\n",
       "      <td>Male</td>\n",
       "      <td>Adamawa</td>\n",
       "      <td>Rural</td>\n",
       "      <td>2010-02-27</td>\n",
       "      <td>2010</td>\n",
       "      <td>6</td>\n",
       "      <td>2011-08-15</td>\n",
       "      <td>Ebola</td>\n",
       "      <td>Dead</td>\n",
       "      <td>Not Confirmed</td>\n",
       "    </tr>\n",
       "    <tr>\n",
       "      <th>2435</th>\n",
       "      <td>2475</td>\n",
       "      <td>Female</td>\n",
       "      <td>Niger</td>\n",
       "      <td>Urban</td>\n",
       "      <td>2012-08-13</td>\n",
       "      <td>2012</td>\n",
       "      <td>13</td>\n",
       "      <td>2018-08-26</td>\n",
       "      <td>Viral Haemmorrhaphic Fever</td>\n",
       "      <td>Alive</td>\n",
       "      <td>Not Confirmed</td>\n",
       "    </tr>\n",
       "  </tbody>\n",
       "</table>\n",
       "<p>181 rows × 11 columns</p>\n",
       "</div>"
      ],
      "text/plain": [
       "        id  gender     state settlement report_date  report_year  age  \\\n",
       "15      16  Female       Imo      Urban  2012-08-23         2012    2   \n",
       "29      30  Female      Yobe      Urban  2014-11-11         2014    7   \n",
       "43      45  Female      Osun      Rural  2012-02-02         2012    3   \n",
       "44      46  Female     Kebbi      Rural  2013-08-30         2013    4   \n",
       "82      86  Female    Jigawa      Urban  2010-12-26         2010    3   \n",
       "...    ...     ...       ...        ...         ...          ...  ...   \n",
       "2392  2430  Female   Bayelsa      Rural  2013-10-10         2013    2   \n",
       "2409  2449    Male  Nasarawa      Urban  2014-12-25         2014    3   \n",
       "2414  2454  Female      Kano      Rural  2010-09-17         2010    3   \n",
       "2416  2456    Male   Adamawa      Rural  2010-02-27         2010    6   \n",
       "2435  2475  Female     Niger      Urban  2012-08-13         2012   13   \n",
       "\n",
       "     date_of_birth                     disease health_status report_outcome  \n",
       "15      2015-06-21                  Meningitis         Alive  Not Confirmed  \n",
       "29      2018-04-19               Marburg Virus         Alive      Confirmed  \n",
       "43      2016-05-06                Yellow Fever          Dead      Confirmed  \n",
       "44      2013-12-10                     Cholera          Dead  Not Confirmed  \n",
       "82      2017-09-26  Viral Haemmorrhaphic Fever          Dead      Confirmed  \n",
       "...            ...                         ...           ...            ...  \n",
       "2392    2015-12-12                     Measles         Alive      Confirmed  \n",
       "2409    2015-09-23                       Ebola          Dead  Not Confirmed  \n",
       "2414    2014-12-27                       Ebola          Dead      Confirmed  \n",
       "2416    2011-08-15                       Ebola          Dead  Not Confirmed  \n",
       "2435    2018-08-26  Viral Haemmorrhaphic Fever         Alive  Not Confirmed  \n",
       "\n",
       "[181 rows x 11 columns]"
      ]
     },
     "execution_count": 29,
     "metadata": {},
     "output_type": "execute_result"
    }
   ],
   "source": [
    "disease_df[inconsistent_rows]"
   ]
  },
  {
   "cell_type": "code",
   "execution_count": 30,
   "id": "fbb0ca02-accd-40ee-922f-7d04c96a79dd",
   "metadata": {},
   "outputs": [],
   "source": [
    "#correcting the inconsistent rows\n",
    "for i in disease_df[inconsistent_rows].index:\n",
    "    year= str(disease_df.loc[i,'report_year'] - disease_df.loc[i,'age'])\n",
    "    month= str(disease_df.loc[i,'date_of_birth'].month)\n",
    "    day = str(disease_df.loc[i,'date_of_birth'].day)\n",
    "    update= year + '-'+month+'-'+day\n",
    "    disease_df.loc[i,'date_of_birth'] = pd.to_datetime(update)"
   ]
  },
  {
   "cell_type": "code",
   "execution_count": 31,
   "id": "9d9bf8d1-fe24-4f03-a70f-f6c490cca9b8",
   "metadata": {},
   "outputs": [
    {
     "data": {
      "text/html": [
       "<div>\n",
       "<style scoped>\n",
       "    .dataframe tbody tr th:only-of-type {\n",
       "        vertical-align: middle;\n",
       "    }\n",
       "\n",
       "    .dataframe tbody tr th {\n",
       "        vertical-align: top;\n",
       "    }\n",
       "\n",
       "    .dataframe thead th {\n",
       "        text-align: right;\n",
       "    }\n",
       "</style>\n",
       "<table border=\"1\" class=\"dataframe\">\n",
       "  <thead>\n",
       "    <tr style=\"text-align: right;\">\n",
       "      <th></th>\n",
       "      <th>id</th>\n",
       "      <th>gender</th>\n",
       "      <th>state</th>\n",
       "      <th>settlement</th>\n",
       "      <th>report_date</th>\n",
       "      <th>report_year</th>\n",
       "      <th>age</th>\n",
       "      <th>date_of_birth</th>\n",
       "      <th>disease</th>\n",
       "      <th>health_status</th>\n",
       "      <th>report_outcome</th>\n",
       "    </tr>\n",
       "  </thead>\n",
       "  <tbody>\n",
       "  </tbody>\n",
       "</table>\n",
       "</div>"
      ],
      "text/plain": [
       "Empty DataFrame\n",
       "Columns: [id, gender, state, settlement, report_date, report_year, age, date_of_birth, disease, health_status, report_outcome]\n",
       "Index: []"
      ]
     },
     "execution_count": 31,
     "metadata": {},
     "output_type": "execute_result"
    }
   ],
   "source": [
    "#Confirming the correction\n",
    "disease_df[disease_df['date_of_birth'] > disease_df['report_date']]"
   ]
  },
  {
   "cell_type": "markdown",
   "id": "9f20b4aa-c55b-499e-8f76-fdb29796a9d8",
   "metadata": {},
   "source": [
    "#### disease column"
   ]
  },
  {
   "cell_type": "code",
   "execution_count": 32,
   "id": "c7de2e4b-67b4-46ec-a763-eb374f741b8a",
   "metadata": {},
   "outputs": [
    {
     "data": {
      "text/plain": [
       "array(['Cholera', 'Marburg Virus', 'Measles', 'Rubella Mars', 'Ebola',\n",
       "       'Yellow Fever', 'Diarrhoea', 'Meningitis', 'Malaria',\n",
       "       'Viral Haemmorrhaphic Fever'], dtype=object)"
      ]
     },
     "execution_count": 32,
     "metadata": {},
     "output_type": "execute_result"
    }
   ],
   "source": [
    "#Checking for inconsistency and inaccuracy\n",
    "disease_df['disease'].unique()"
   ]
  },
  {
   "cell_type": "code",
   "execution_count": 33,
   "id": "f41b18ee-c27f-4332-b7b1-2ee89755da70",
   "metadata": {},
   "outputs": [],
   "source": [
    "disease_df['disease'].replace({'Viral Haemmorrhaphic Fever':'VHF'}, inplace=True)"
   ]
  },
  {
   "cell_type": "code",
   "execution_count": 34,
   "id": "1d20a117-e69d-4e7e-8c93-75369c661499",
   "metadata": {},
   "outputs": [
    {
     "data": {
      "text/plain": [
       "array(['Cholera', 'Marburg Virus', 'Measles', 'Rubella Mars', 'Ebola',\n",
       "       'Yellow Fever', 'Diarrhoea', 'Meningitis', 'Malaria', 'VHF'],\n",
       "      dtype=object)"
      ]
     },
     "execution_count": 34,
     "metadata": {},
     "output_type": "execute_result"
    }
   ],
   "source": [
    "#Confirming if the corrections has been made\n",
    "disease_df['disease'].unique()"
   ]
  },
  {
   "cell_type": "markdown",
   "id": "ccf3547c-969c-4ec0-856c-6315a5abd7a7",
   "metadata": {},
   "source": [
    "#### health_status column"
   ]
  },
  {
   "cell_type": "code",
   "execution_count": 35,
   "id": "d6b5448a-dfc6-4237-95b8-74c635a6d8e2",
   "metadata": {},
   "outputs": [
    {
     "data": {
      "text/plain": [
       "array(['alive', 'Alive', 'dead', 'Dead'], dtype=object)"
      ]
     },
     "execution_count": 35,
     "metadata": {},
     "output_type": "execute_result"
    }
   ],
   "source": [
    "#Checking for inconsistency and inaccuracy\n",
    "disease_df['health_status'].unique()"
   ]
  },
  {
   "cell_type": "code",
   "execution_count": 36,
   "id": "8e878ab1-b684-4162-9736-8946df6f8d1d",
   "metadata": {},
   "outputs": [],
   "source": [
    "disease_df['health_status'].replace({'alive':'Alive', 'dead':'Dead'}, inplace=True)"
   ]
  },
  {
   "cell_type": "code",
   "execution_count": 37,
   "id": "d83c4a72-6a83-4388-9ff7-4670e683d28d",
   "metadata": {},
   "outputs": [
    {
     "data": {
      "text/plain": [
       "array(['Alive', 'Dead'], dtype=object)"
      ]
     },
     "execution_count": 37,
     "metadata": {},
     "output_type": "execute_result"
    }
   ],
   "source": [
    "#Confirming if the corrections has been made\n",
    "disease_df['health_status'].unique()"
   ]
  },
  {
   "cell_type": "markdown",
   "id": "2845a568-eaa6-477c-839d-ce91aecee544",
   "metadata": {},
   "source": [
    "#### report_outcome column"
   ]
  },
  {
   "cell_type": "code",
   "execution_count": 38,
   "id": "7ac5954d-e8b6-448a-b87d-4dba8a9e3c8b",
   "metadata": {},
   "outputs": [
    {
     "data": {
      "text/plain": [
       "array(['confirmed', 'Confirmed', 'Not Confirmed', 'Not confirmed'],\n",
       "      dtype=object)"
      ]
     },
     "execution_count": 38,
     "metadata": {},
     "output_type": "execute_result"
    }
   ],
   "source": [
    "#Checking for inconsistency and inaccuracy\n",
    "disease_df['report_outcome'].unique()"
   ]
  },
  {
   "cell_type": "code",
   "execution_count": 39,
   "id": "79cf1594-9feb-4ffe-8609-7c1d98595957",
   "metadata": {},
   "outputs": [],
   "source": [
    "disease_df['report_outcome'].replace({'confirmed':'Confirmed', 'Not confirmed':'Not Confirmed'}, inplace=True)"
   ]
  },
  {
   "cell_type": "code",
   "execution_count": 40,
   "id": "bb33fae1-239c-4b5f-9613-6350fef50c64",
   "metadata": {},
   "outputs": [
    {
     "data": {
      "text/plain": [
       "array(['Confirmed', 'Not Confirmed'], dtype=object)"
      ]
     },
     "execution_count": 40,
     "metadata": {},
     "output_type": "execute_result"
    }
   ],
   "source": [
    "#Confirming if the corrections has been made\n",
    "disease_df['report_outcome'].unique()"
   ]
  },
  {
   "cell_type": "code",
   "execution_count": null,
   "id": "e9831441-4e0c-4bbf-9328-badc0bca053b",
   "metadata": {},
   "outputs": [],
   "source": []
  },
  {
   "cell_type": "markdown",
   "id": "a1db41d6-9dc0-4960-92c0-fa63687e3df6",
   "metadata": {},
   "source": [
    "## Analysis\n",
    "\n",
    "1. Which states has the highest incidence of Malaria and Cholera?\n",
    "2. Which State has the highest death rate due to Cholera?\n",
    "3. Which group do we have the highest disease occurrence, rural or urban?\n",
    "4. Which diseases has the highest death rate in 2010 and 2018?\n",
    "5. Which year do we have highest incidence of Meningitis? b. Which Age group are more perceptible to Diarrhoea?"
   ]
  },
  {
   "cell_type": "code",
   "execution_count": 41,
   "id": "b0be5ab8-77a8-4b4b-b791-bf82f1e7d127",
   "metadata": {},
   "outputs": [],
   "source": [
    "cholera = disease_df['disease'].isin(['Cholera'])\n",
    "malaria = disease_df['disease'].isin(['Malaria'])"
   ]
  },
  {
   "cell_type": "code",
   "execution_count": 42,
   "id": "e38c6d9f-e889-4aa0-b624-04d399388a3c",
   "metadata": {},
   "outputs": [
    {
     "data": {
      "image/png": "[encoded data removed]",
      "text/plain": [
       "<Figure size 1500x500 with 1 Axes>"
      ]
     },
     "metadata": {},
     "output_type": "display_data"
    }
   ],
   "source": [
    "#Which states has the highest incidence of Malaria and Cholera?\n",
    "malaria_cholera_df = disease_df['disease'].isin(['Malaria', 'Cholera'])\n",
    "malaria_cholera_df = disease_df[malaria_cholera_df]\n",
    "pd.crosstab(malaria_cholera_df['state'], malaria_cholera_df['disease']).plot(kind='bar', figsize=(15,5))\n",
    "\n",
    "plt.ylabel('Number of Cases')\n",
    "plt.xlabel('States')\n",
    "plt.title('Incidence of Malaria and Cholera by States')\n",
    "\n",
    "plt.show()"
   ]
  },
  {
   "cell_type": "code",
   "execution_count": 43,
   "id": "6a3ead6a-4819-4b3d-92c1-9ae87b71690f",
   "metadata": {},
   "outputs": [
    {
     "data": {
      "image/png": "[encoded data removed]",
      "text/plain": [
       "<Figure size 1500x500 with 1 Axes>"
      ]
     },
     "metadata": {},
     "output_type": "display_data"
    }
   ],
   "source": [
    "#Which State has the highest death rate due to Cholera?\n",
    "cholera_df=disease_df[disease_df['disease']=='Cholera']\n",
    "dead_cholera_df=cholera_df[cholera_df['health_status']=='Dead']\n",
    "dead_cholera_df.groupby('state')['health_status'].count().sort_values(ascending=False).plot(kind='bar', figsize=(15,5))\n",
    "\n",
    "plt.ylabel('Number of deaths by Cholera')\n",
    "plt.xlabel('States')\n",
    "plt.title('Number of deaths by Cholera in various States')\n",
    "\n",
    "plt.show()"
   ]
  },
  {
   "cell_type": "code",
   "execution_count": 93,
   "id": "7a2b72e6-70c7-4e02-bf2e-d1ac2b6c06e5",
   "metadata": {},
   "outputs": [
    {
     "data": {
      "image/png": "[encoded data removed]",
      "text/plain": [
       "<Figure size 640x480 with 1 Axes>"
      ]
     },
     "metadata": {},
     "output_type": "display_data"
    }
   ],
   "source": [
    "#Which group do we have the highest disease occurrence, rural or urban?\n",
    "disease_settlement=disease_df.groupby('settlement')['disease'].count().reset_index()\n",
    "\n",
    "plt.bar(disease_settlement['settlement'], disease_settlement['disease'])\n",
    "\n",
    "plt.ylabel('Number of disease occurance')\n",
    "plt.xlabel('Settlement')\n",
    "plt.title('Number of disease occurance by groups')\n",
    "plt.xticks(rotation=0)\n",
    "\n",
    "for i, cases in enumerate(disease_settlement['disease']):\n",
    "    plt.text(i, cases +10, str(cases), ha='center')\n",
    "\n",
    "plt.show()"
   ]
  },
  {
   "cell_type": "code",
   "execution_count": 45,
   "id": "f4cff65f-d452-42cf-98af-43ecc0f90b7f",
   "metadata": {},
   "outputs": [
    {
     "data": {
      "image/png": "[encoded data removed]",
      "text/plain": [
       "<Figure size 1300x500 with 1 Axes>"
      ]
     },
     "metadata": {},
     "output_type": "display_data"
    }
   ],
   "source": [
    "#Which diseases has the highest death rate in 2010 and 2018?\n",
    "d_df=disease_df[disease_df['report_year'].isin([2010,2018])]\n",
    "pd.crosstab(d_df['disease'], d_df['report_year']).plot(kind='bar', figsize=(13,5))\n",
    "\n",
    "plt.xticks(rotation=30)\n",
    "\n",
    "plt.show()"
   ]
  },
  {
   "cell_type": "code",
   "execution_count": 46,
   "id": "747456aa-b185-48f7-9431-b2496ba123b3",
   "metadata": {},
   "outputs": [
    {
     "data": {
      "image/png": "[encoded data removed]",
      "text/plain": [
       "<Figure size 1500x500 with 2 Axes>"
      ]
     },
     "metadata": {},
     "output_type": "display_data"
    }
   ],
   "source": [
    "#Which diseases has the highest death rate in 2010 and 2018?\n",
    "plt.figure(figsize=(15,5))\n",
    "\n",
    "# First subplot\n",
    "plt.subplot(1,2,1)\n",
    "d_df_10=d_df[d_df['report_year']==2010].groupby('disease')['report_year'].count()\n",
    "d_df_10.plot(kind='bar')\n",
    "plt.ylabel('Number of Reports in 2010')\n",
    "plt.title('Diseases has the highest death rate in 2010')\n",
    "plt.xticks(rotation=30)\n",
    "\n",
    "# Second subplot\n",
    "plt.subplot(1,2,2)\n",
    "d_df_18=d_df[d_df['report_year']==2018].groupby('disease')['report_year'].count()\n",
    "d_df_18.plot(kind='bar')\n",
    "plt.ylabel('Number of Reports in 2018')\n",
    "plt.title('Diseases has the highest death rate in 2018')\n",
    "plt.xticks(rotation=30)\n",
    "\n",
    "# Adjust layout to prevent overlapping\n",
    "plt.tight_layout()\n",
    "\n",
    "plt.show()"
   ]
  },
  {
   "cell_type": "code",
   "execution_count": 47,
   "id": "03ef582d-b2dc-4703-b3a6-2c180c3ce5e1",
   "metadata": {},
   "outputs": [
    {
     "data": {
      "image/png": "[encoded data removed]",
      "text/plain": [
       "<Figure size 1000x500 with 1 Axes>"
      ]
     },
     "metadata": {},
     "output_type": "display_data"
    }
   ],
   "source": [
    "#Which year do we have highest incidence of Meningitis?\n",
    "plt.figure(figsize=(10,5))\n",
    "disease_df[disease_df['disease']=='Meningitis'].groupby('report_year')['disease'].count().sort_values(ascending=False).plot(kind='bar')\n",
    "\n",
    "plt.xlabel('Year')\n",
    "plt.ylabel('Number of Incidence of Meningitis')\n",
    "plt.title('Incidence of Meningitis by Year')\n",
    "plt.xticks(rotation= 0)\n",
    "\n",
    "plt.show()"
   ]
  },
  {
   "cell_type": "code",
   "execution_count": null,
   "id": "5d7f0670-189e-4a2a-9473-b1ab31f14f58",
   "metadata": {},
   "outputs": [],
   "source": []
  },
  {
   "cell_type": "code",
   "execution_count": 48,
   "id": "5ec4c84b-930f-45a3-ba81-0951617e8c6e",
   "metadata": {},
   "outputs": [
    {
     "data": {
      "image/png": "[encoded data removed]",
      "text/plain": [
       "<Figure size 1000x500 with 1 Axes>"
      ]
     },
     "metadata": {},
     "output_type": "display_data"
    }
   ],
   "source": [
    "#b. Which Age group are more perceptible to Diarrhoea?\n",
    "\n",
    "# Creating a column 'Age_Group'\n",
    "disease_df['Age_Group']= pd.cut(disease_df.age, bins=[0,10,20,30,40,50,60,70,float('inf')], labels=['(0-9)', '(10-19)', '(20-29)', '(30-39)', '(40-49)', '(50-59)', '(60-69)', '(70+)'], include_lowest=True)\n",
    "\n",
    "plt.figure(figsize=(10,5))\n",
    "disease_df[disease_df['disease']=='Diarrhoea'].groupby('Age_Group')['disease'].count().plot(kind='bar')\n",
    "\n",
    "plt.xlabel('Age Group')\n",
    "plt.ylabel('Number of Diarrhoea Cases')\n",
    "plt.title('Number of Diarrhoea Cases by Age Group')\n",
    "plt.xticks(rotation=0)\n",
    "\n",
    "plt.show()"
   ]
  }
 ],
 "metadata": {
  "kernelspec": {
   "display_name": "Python 3 (ipykernel)",
   "language": "python",
   "name": "python3"
  },
  "language_info": {
   "codemirror_mode": {
    "name": "ipython",
    "version": 3
   },
   "file_extension": ".py",
   "mimetype": "text/x-python",
   "name": "python",
   "nbconvert_exporter": "python",
   "pygments_lexer": "ipython3",
   "version": "3.11.7"
  }
 },
 "nbformat": 4,
 "nbformat_minor": 5
}
